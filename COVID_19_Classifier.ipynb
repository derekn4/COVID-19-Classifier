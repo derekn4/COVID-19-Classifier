{
  "nbformat": 4,
  "nbformat_minor": 0,
  "metadata": {
    "colab": {
      "name": "COVID-19 Classifier.ipynb",
      "provenance": [],
      "collapsed_sections": []
    },
    "kernelspec": {
      "name": "python3",
      "display_name": "Python 3"
    },
    "accelerator": "GPU"
  },
  "cells": [
    {
      "cell_type": "code",
      "metadata": {
        "id": "NMd3dokRwcT1"
      },
      "source": [
        "!rm -rf CovidDataset"
      ],
      "execution_count": null,
      "outputs": []
    },
    {
      "cell_type": "code",
      "metadata": {
        "id": "a7T8j8G1nscB",
        "outputId": "8741f56f-1213-426c-ae45-f89aeebbcbbd",
        "colab": {
          "base_uri": "https://localhost:8080/",
          "height": 1000
        }
      },
      "source": [
        "!unzip CovidDataset.zip"
      ],
      "execution_count": null,
      "outputs": [
        {
          "output_type": "stream",
          "text": [
            "Archive:  CovidDataset.zip\n",
            "   creating: CovidDataset/Train/\n",
            "   creating: CovidDataset/Train/Covid/\n",
            "  inflating: CovidDataset/Train/Covid/1052b0fe.jpg  \n",
            "  inflating: CovidDataset/Train/Covid/1312A392-67A3-4EBF-9319-810CF6DA5EF6.jpeg  \n",
            "  inflating: CovidDataset/Train/Covid/16654_1_1.png  \n",
            "  inflating: CovidDataset/Train/Covid/16654_2_1.jpg  \n",
            "  inflating: CovidDataset/Train/Covid/16654_4_1.jpg  \n",
            "  inflating: CovidDataset/Train/Covid/16660_1_1.jpg  \n",
            "  inflating: CovidDataset/Train/Covid/16660_2_1.jpg  \n",
            "  inflating: CovidDataset/Train/Covid/16660_3_1.jpg  \n",
            "  inflating: CovidDataset/Train/Covid/16660_4_1.jpg  \n",
            "  inflating: CovidDataset/Train/Covid/16663_1_1.jpg  \n",
            "  inflating: CovidDataset/Train/Covid/16664_1_1.jpg  \n",
            "  inflating: CovidDataset/Train/Covid/16669_1_1.jpeg  \n",
            "  inflating: CovidDataset/Train/Covid/16669_3_1.jpeg  \n",
            "  inflating: CovidDataset/Train/Covid/16672_1_1.jpg  \n",
            "  inflating: CovidDataset/Train/Covid/16708_1_1.jpg  \n",
            "  inflating: CovidDataset/Train/Covid/16708_4_1.jpg  \n",
            "  inflating: CovidDataset/Train/Covid/16708_5_1.jpg  \n",
            "  inflating: CovidDataset/Train/Covid/16745_5_1.png  \n",
            "  inflating: CovidDataset/Train/Covid/16747_1_1.jpg  \n",
            "  inflating: CovidDataset/Train/Covid/2020.02.25.20021568-p24-111%1.png  \n",
            "  inflating: CovidDataset/Train/Covid/2020.02.25.20021568-p24-111%2.png  \n",
            "  inflating: CovidDataset/Train/Covid/2020.02.25.20021568-p24-111%3.png  \n",
            "  inflating: CovidDataset/Train/Covid/2020.02.25.20021568-p24-111%4.png  \n",
            "  inflating: CovidDataset/Train/Covid/2020.02.25.20021568-p24-111%5.png  \n",
            "  inflating: CovidDataset/Train/Covid/2020.02.25.20021568-p24-111%6.png  \n",
            "  inflating: CovidDataset/Train/Covid/2020.02.25.20021568-p24-111%7.png  \n",
            "  inflating: CovidDataset/Train/Covid/2020.02.25.20021568-p24-111%8.png  \n",
            "  inflating: CovidDataset/Train/Covid/2020.02.25.20021568-p24-111%9.png  \n",
            "  inflating: CovidDataset/Train/Covid/2020.02.25.20027763-p15-53%0.png  \n",
            "  inflating: CovidDataset/Train/Covid/2020.02.25.20027763-p15-53%1.png  \n",
            "  inflating: CovidDataset/Train/Covid/2020.02.26.20026989-p34-114_1%0.png  \n",
            "  inflating: CovidDataset/Train/Covid/2020.02.26.20026989-p34-114_1%1.png  \n",
            "  inflating: CovidDataset/Train/Covid/2020.02.26.20026989-p34-114_2%0.png  \n",
            "  inflating: CovidDataset/Train/Covid/2020.02.26.20026989-p34-114_2%1.png  \n",
            "  inflating: CovidDataset/Train/Covid/2020.02.26.20027938-p6-80_1%0.png  \n",
            "  inflating: CovidDataset/Train/Covid/2020.02.26.20027938-p6-80_1%1.png  \n",
            "  inflating: CovidDataset/Train/Covid/2020.02.26.20027938-p6-80_2%0.png  \n",
            "  inflating: CovidDataset/Train/Covid/2020.02.26.20027938-p6-80_2%1.png  \n",
            "  inflating: CovidDataset/Train/Covid/2020.02.26.20027938-p6-80_3%0.png  \n",
            "  inflating: CovidDataset/Train/Covid/2168a917.jpg  \n",
            "  inflating: CovidDataset/Train/Covid/289cb15b.jpg  \n",
            "  inflating: CovidDataset/Train/Covid/2966893D-5DDF-4B68-9E2B-4979D5956C8E.jpeg  \n",
            "  inflating: CovidDataset/Train/Covid/353889E0-A1E8-4F9E-A0B8-F24F36BCFBFB.jpeg  \n",
            "  inflating: CovidDataset/Train/Covid/41591_2020_819_Fig1_HTML.webp-day10.png  \n",
            "  inflating: CovidDataset/Train/Covid/41591_2020_819_Fig1_HTML.webp-day5.png  \n",
            "  inflating: CovidDataset/Train/Covid/441c9cdd.jpg  \n",
            "  inflating: CovidDataset/Train/Covid/5782ae15.jpg  \n",
            "  inflating: CovidDataset/Train/Covid/730a0b8f.jpg  \n",
            "  inflating: CovidDataset/Train/Covid/80446565-E090-4187-A031-9D3CEAA586C8.jpeg  \n",
            "  inflating: CovidDataset/Train/Covid/88de9d8c39e946abd495b37cd07d89e5-2ee6-0.jpg  \n",
            "  inflating: CovidDataset/Train/Covid/88de9d8c39e946abd495b37cd07d89e5-6531-0.jpg  \n",
            "  inflating: CovidDataset/Train/Covid/90986ce4.jpg  \n",
            "  inflating: CovidDataset/Train/Covid/93FE0BB1-022D-4F24-9727-987A07975FFB.jpeg  \n",
            "  inflating: CovidDataset/Train/Covid/a2eba651.jpg  \n",
            "  inflating: CovidDataset/Train/Covid/a361d7b7.jpg  \n",
            "  inflating: CovidDataset/Train/Covid/a8ac1969.jpg  \n",
            "  inflating: CovidDataset/Train/Covid/ada8c494.jpg  \n",
            "  inflating: CovidDataset/Train/Covid/ae6c954c0039de4b5edee53865ffee43-e6c8-0.jpg  \n",
            "  inflating: CovidDataset/Train/Covid/all14238-fig-0001-m-b.jpg  \n",
            "  inflating: CovidDataset/Train/Covid/all14238-fig-0001-m-c.jpg  \n",
            "  inflating: CovidDataset/Train/Covid/AR-1.jpg  \n",
            "  inflating: CovidDataset/Train/Covid/AR-2.jpg  \n",
            "  inflating: CovidDataset/Train/Covid/auntminnie-a-2020_01_28_23_51_6665_2020_01_28_Vietnam_coronavirus.jpeg  \n",
            "  inflating: CovidDataset/Train/Covid/auntminnie-b-2020_01_28_23_51_6665_2020_01_28_Vietnam_coronavirus.jpeg  \n",
            "  inflating: CovidDataset/Train/Covid/auntminnie-c-2020_01_28_23_51_6665_2020_01_28_Vietnam_coronavirus.jpeg  \n",
            "  inflating: CovidDataset/Train/Covid/auntminnie-d-2020_01_28_23_51_6665_2020_01_28_Vietnam_coronavirus.jpeg  \n",
            "  inflating: CovidDataset/Train/Covid/B2D20576-00B7-4519-A415-72DE29C90C34.jpeg  \n",
            "  inflating: CovidDataset/Train/Covid/b9673e89.jpg  \n",
            "  inflating: CovidDataset/Train/Covid/bb0e626a.jpg  \n",
            "  inflating: CovidDataset/Train/Covid/bd10d5e2.jpg  \n",
            "  inflating: CovidDataset/Train/Covid/c0f74558.jpg  \n",
            "  inflating: CovidDataset/Train/Covid/c3829ecb.jpg  \n",
            "  inflating: CovidDataset/Train/Covid/c601f50d.jpg  \n",
            "  inflating: CovidDataset/Train/Covid/CD50BA96-6982-4C80-AE7B-5F67ACDBFA56.jpeg  \n",
            "  inflating: CovidDataset/Train/Covid/ciaa199.pdf-001-a.png  \n",
            "  inflating: CovidDataset/Train/Covid/ciaa199.pdf-001-b.png  \n",
            "  inflating: CovidDataset/Train/Covid/ciaa199.pdf-001-c.png  \n",
            "  inflating: CovidDataset/Train/Covid/covid-19-caso-70-1-PA.jpg  \n",
            "  inflating: CovidDataset/Train/Covid/covid-19-infection-exclusive-gastrointestinal-symptoms-pa.png  \n",
            "  inflating: CovidDataset/Train/Covid/covid-19-pneumonia-12.jpg  \n",
            "  inflating: CovidDataset/Train/Covid/covid-19-pneumonia-14-PA.png  \n",
            "  inflating: CovidDataset/Train/Covid/covid-19-pneumonia-15-PA.jpg  \n",
            "  inflating: CovidDataset/Train/Covid/covid-19-pneumonia-19.jpg  \n",
            "  inflating: CovidDataset/Train/Covid/covid-19-pneumonia-2.jpg  \n",
            "  inflating: CovidDataset/Train/Covid/covid-19-pneumonia-20.jpg  \n",
            "  inflating: CovidDataset/Train/Covid/covid-19-pneumonia-20-pa-on-admission.jpg  \n",
            "  inflating: CovidDataset/Train/Covid/covid-19-pneumonia-22-day1-pa.png  \n",
            "  inflating: CovidDataset/Train/Covid/covid-19-pneumonia-22-day2-pa.png  \n",
            "  inflating: CovidDataset/Train/Covid/covid-19-pneumonia-28.png  \n",
            "  inflating: CovidDataset/Train/Covid/covid-19-pneumonia-30-PA.jpg  \n",
            "  inflating: CovidDataset/Train/Covid/covid-19-pneumonia-34.png  \n",
            "  inflating: CovidDataset/Train/Covid/covid-19-pneumonia-35-1.jpg  \n",
            "  inflating: CovidDataset/Train/Covid/covid-19-pneumonia-35-2.jpg  \n",
            "  inflating: CovidDataset/Train/Covid/covid-19-pneumonia-38-pa.jpg  \n",
            "  inflating: CovidDataset/Train/Covid/covid-19-pneumonia-44-day-0.jpeg  \n",
            "  inflating: CovidDataset/Train/Covid/covid-19-pneumonia-53.jpg  \n",
            "  inflating: CovidDataset/Train/Covid/covid-19-pneumonia-58-day-10.jpg  \n",
            "  inflating: CovidDataset/Train/Covid/covid-19-pneumonia-58-day-3.jpg  \n",
            "  inflating: CovidDataset/Train/Covid/covid-19-pneumonia-58-day-7.jpg  \n",
            "  inflating: CovidDataset/Train/Covid/covid-19-pneumonia-58-day-9.jpg  \n",
            "  inflating: CovidDataset/Train/Covid/covid-19-pneumonia-67.jpeg  \n",
            "  inflating: CovidDataset/Train/Covid/covid-19-pneumonia-7-PA.jpg  \n",
            "  inflating: CovidDataset/Train/Covid/covid-19-pneumonia-8.jpg  \n",
            "  inflating: CovidDataset/Train/Covid/covid-19-pneumonia-93.png  \n",
            "  inflating: CovidDataset/Train/Covid/covid-19-pneumonia-bilateral.jpg  \n",
            "  inflating: CovidDataset/Train/Covid/covid-19-pneumonia-evolution-over-a-week-1-day0-PA.jpg  \n",
            "  inflating: CovidDataset/Train/Covid/covid-19-pneumonia-mild.JPG  \n",
            "  inflating: CovidDataset/Train/Covid/d009d61f.jpg  \n",
            "  inflating: CovidDataset/Train/Covid/d9d6ca9a.jpg  \n",
            "  inflating: CovidDataset/Train/Covid/e1446fe8.jpg  \n",
            "  inflating: CovidDataset/Train/Covid/E63574A7-4188-4C8D-8D17-9D67A18A1AFA.jpeg  \n",
            "  inflating: CovidDataset/Train/Covid/eb8e8a5b.jpg  \n",
            "  inflating: CovidDataset/Train/Covid/ec083e35.jpg  \n",
            "  inflating: CovidDataset/Train/Covid/extubation-1.jpg  \n",
            "  inflating: CovidDataset/Train/Covid/extubation-13.jpg  \n",
            "  inflating: CovidDataset/Train/Covid/extubation-4.jpg  \n",
            "  inflating: CovidDataset/Train/Covid/extubation-8.jpg  \n",
            "  inflating: CovidDataset/Train/Covid/f0864aff.jpg  \n",
            "  inflating: CovidDataset/Train/Covid/F2DE909F-E19C-4900-92F5-8F435B031AC6.jpeg  \n",
            "  inflating: CovidDataset/Train/Covid/F4341CE7-73C9-45C6-99C8-8567A5484B63.jpeg  \n",
            "  inflating: CovidDataset/Train/Covid/F63AB6CE-1968-4154-A70F-913AF154F53D.jpeg  \n",
            "  inflating: CovidDataset/Train/Covid/f64132c8.jpg  \n",
            "  inflating: CovidDataset/Train/Covid/f6d980a0.jpg  \n",
            "  inflating: CovidDataset/Train/Covid/f8335316.jpg  \n",
            "  inflating: CovidDataset/Train/Covid/FE9F9A5D-2830-46F9-851B-1FF4534959BE.jpeg  \n",
            "  inflating: CovidDataset/Train/Covid/fff49165-b22d-4bb4-b9d1-d5d62c52436c.annot.original.png  \n",
            "  inflating: CovidDataset/Train/Covid/figure1-5e71be566aa8714a04de3386-98-left.jpeg  \n",
            "  inflating: CovidDataset/Train/Covid/figure1-5e75d0940b71e1b702629659-98-right.jpeg  \n",
            "  inflating: CovidDataset/Train/Covid/gr1_lrg-a.jpg  \n",
            "  inflating: CovidDataset/Train/Covid/gr1_lrg-b.jpg  \n",
            "  inflating: CovidDataset/Train/Covid/kjr-21-e24-g001-l-a.jpg  \n",
            "  inflating: CovidDataset/Train/Covid/kjr-21-e24-g002-l-a.jpg  \n",
            "  inflating: CovidDataset/Train/Covid/kjr-21-e24-g003-l-a.jpg  \n",
            "  inflating: CovidDataset/Train/Covid/kjr-21-e25-g001-l-a.jpg  \n",
            "  inflating: CovidDataset/Train/Covid/lancet-case2a.jpg  \n",
            "  inflating: CovidDataset/Train/Covid/lancet-case2b.jpg  \n",
            "  inflating: CovidDataset/Train/Covid/nCoV-radiol.2020200269.fig1-day7.jpeg  \n",
            "  inflating: CovidDataset/Train/Covid/nejmc2001573_f1a.jpeg  \n",
            "  inflating: CovidDataset/Train/Covid/nejmc2001573_f1b.jpeg  \n",
            "  inflating: CovidDataset/Train/Covid/nejmoa2001191_f1-PA.jpeg  \n",
            "  inflating: CovidDataset/Train/Covid/nejmoa2001191_f3-PA.jpeg  \n",
            "  inflating: CovidDataset/Train/Covid/nejmoa2001191_f4.jpeg  \n",
            "  inflating: CovidDataset/Train/Covid/nejmoa2001191_f5-PA.jpeg  \n",
            "  inflating: CovidDataset/Train/Covid/paving.jpg  \n",
            "  inflating: CovidDataset/Train/Covid/radiol.2020200274.fig3d.png  \n",
            "  inflating: CovidDataset/Train/Covid/radiol.2020200490.fig3.jpeg  \n",
            "  inflating: CovidDataset/Train/Covid/ryct.2020200028.fig1a.jpeg  \n",
            "  inflating: CovidDataset/Train/Covid/ryct.2020200034.fig2.jpeg  \n",
            "  inflating: CovidDataset/Train/Covid/ryct.2020200034.fig5-day0.jpeg  \n",
            "  inflating: CovidDataset/Train/Covid/ryct.2020200034.fig5-day4.jpeg  \n",
            "  inflating: CovidDataset/Train/Covid/ryct.2020200034.fig5-day7.jpeg  \n",
            "  inflating: CovidDataset/Train/Covid/yxppt-2020-02-19_00-51-27_287214-day8.jpg  \n",
            "   creating: CovidDataset/Train/Normal/\n",
            "  inflating: CovidDataset/Train/Normal/10%0.jpg  \n",
            "  inflating: CovidDataset/Train/Normal/10%1.jpg  \n",
            "  inflating: CovidDataset/Train/Normal/2%0.jpg  \n",
            "  inflating: CovidDataset/Train/Normal/2%1.jpg  \n",
            "  inflating: CovidDataset/Train/Normal/4%7.jpg  \n",
            "  inflating: CovidDataset/Train/Normal/5%0.jpg  \n",
            "  inflating: CovidDataset/Train/Normal/5%1.jpg  \n",
            "  inflating: CovidDataset/Train/Normal/5%2.jpg  \n",
            "  inflating: CovidDataset/Train/Normal/5%3.jpg  \n",
            "  inflating: CovidDataset/Train/Normal/5%4.jpg  \n",
            "  inflating: CovidDataset/Train/Normal/5%5.jpg  \n",
            "  inflating: CovidDataset/Train/Normal/5%6.jpg  \n",
            "  inflating: CovidDataset/Train/Normal/5%7.jpg  \n",
            "  inflating: CovidDataset/Train/Normal/6%0.jpg  \n",
            "  inflating: CovidDataset/Train/Normal/6%1.jpg  \n",
            "  inflating: CovidDataset/Train/Normal/6%2.jpg  \n",
            "  inflating: CovidDataset/Train/Normal/6%3.jpg  \n",
            "  inflating: CovidDataset/Train/Normal/7.jpg  \n",
            "  inflating: CovidDataset/Train/Normal/8.jpg  \n",
            "  inflating: CovidDataset/Train/Normal/9.jpg  \n",
            "  inflating: CovidDataset/Train/Normal/IM-0618-0001-0002.jpeg  \n",
            "  inflating: CovidDataset/Train/Normal/IM-0622-0001-0001.jpeg  \n",
            "  inflating: CovidDataset/Train/Normal/IM-0633-0001.jpeg  \n",
            "  inflating: CovidDataset/Train/Normal/IM-0640-0001.jpeg  \n",
            "  inflating: CovidDataset/Train/Normal/IM-0642-0001.jpeg  \n",
            "  inflating: CovidDataset/Train/Normal/IM-0644-0001-0001.jpeg  \n",
            "  inflating: CovidDataset/Train/Normal/IM-0648-0001.jpeg  \n",
            "  inflating: CovidDataset/Train/Normal/IM-0650-0001.jpeg  \n",
            "  inflating: CovidDataset/Train/Normal/IM-0652-0001-0002.jpeg  \n",
            "  inflating: CovidDataset/Train/Normal/IM-0666-0001-0001.jpeg  \n",
            "  inflating: CovidDataset/Train/Normal/IM-0666-0001-0002.jpeg  \n",
            "  inflating: CovidDataset/Train/Normal/IM-0667-0001.jpeg  \n",
            "  inflating: CovidDataset/Train/Normal/IM-0676-0001.jpeg  \n",
            "  inflating: CovidDataset/Train/Normal/IM-0684-0001.jpeg  \n",
            "  inflating: CovidDataset/Train/Normal/IM-0689-0001.jpeg  \n",
            "  inflating: CovidDataset/Train/Normal/IM-0697-0001.jpeg  \n",
            "  inflating: CovidDataset/Train/Normal/IM-0707-0001.jpeg  \n",
            "  inflating: CovidDataset/Train/Normal/IM-0721-0001.jpeg  \n",
            "  inflating: CovidDataset/Train/Normal/IM-0730-0001.jpeg  \n",
            "  inflating: CovidDataset/Train/Normal/IM-0733-0001.jpeg  \n",
            "  inflating: CovidDataset/Train/Normal/IM-0735-0001.jpeg  \n",
            "  inflating: CovidDataset/Train/Normal/IM-0747-0001.jpeg  \n",
            "  inflating: CovidDataset/Train/Normal/IM-0750-0001.jpeg  \n",
            "  inflating: CovidDataset/Train/Normal/IM-0752-0001.jpeg  \n",
            "  inflating: CovidDataset/Train/Normal/NORMAL2-IM-0409-0001.jpeg  \n",
            "  inflating: CovidDataset/Train/Normal/NORMAL2-IM-0416-0001-0001.jpeg  \n",
            "  inflating: CovidDataset/Train/Normal/NORMAL2-IM-0424-0001.jpeg  \n",
            "  inflating: CovidDataset/Train/Normal/NORMAL2-IM-0433-0001.jpeg  \n",
            "  inflating: CovidDataset/Train/Normal/NORMAL2-IM-0441-0001.jpeg  \n",
            "  inflating: CovidDataset/Train/Normal/NORMAL2-IM-0443-0001.jpeg  \n",
            "  inflating: CovidDataset/Train/Normal/NORMAL2-IM-0445-0001.jpeg  \n",
            "  inflating: CovidDataset/Train/Normal/NORMAL2-IM-0451-0001.jpeg  \n",
            "  inflating: CovidDataset/Train/Normal/NORMAL2-IM-0468-0001.jpeg  \n",
            "  inflating: CovidDataset/Train/Normal/NORMAL2-IM-0476-0001.jpeg  \n",
            "  inflating: CovidDataset/Train/Normal/NORMAL2-IM-0485-0001.jpeg  \n",
            "  inflating: CovidDataset/Train/Normal/NORMAL2-IM-0497-0001.jpeg  \n",
            "  inflating: CovidDataset/Train/Normal/NORMAL2-IM-0503-0001.jpeg  \n",
            "  inflating: CovidDataset/Train/Normal/NORMAL2-IM-0515-0001.jpeg  \n",
            "  inflating: CovidDataset/Train/Normal/NORMAL2-IM-0516-0001.jpeg  \n",
            "  inflating: CovidDataset/Train/Normal/NORMAL2-IM-0517-0001.jpeg  \n",
            "  inflating: CovidDataset/Train/Normal/NORMAL2-IM-0523-0001.jpeg  \n",
            "  inflating: CovidDataset/Train/Normal/NORMAL2-IM-0525-0001.jpeg  \n",
            "  inflating: CovidDataset/Train/Normal/NORMAL2-IM-0526-0001.jpeg  \n",
            "  inflating: CovidDataset/Train/Normal/NORMAL2-IM-0535-0001.jpeg  \n",
            "  inflating: CovidDataset/Train/Normal/NORMAL2-IM-0575-0001.jpeg  \n",
            "  inflating: CovidDataset/Train/Normal/NORMAL2-IM-0578-0001.jpeg  \n",
            "  inflating: CovidDataset/Train/Normal/NORMAL2-IM-0583-0001.jpeg  \n",
            "  inflating: CovidDataset/Train/Normal/NORMAL2-IM-0611-0001.jpeg  \n",
            "  inflating: CovidDataset/Train/Normal/NORMAL2-IM-0619-0001.jpeg  \n",
            "  inflating: CovidDataset/Train/Normal/NORMAL2-IM-0629-0001.jpeg  \n",
            "  inflating: CovidDataset/Train/Normal/NORMAL2-IM-0635-0001.jpeg  \n",
            "  inflating: CovidDataset/Train/Normal/NORMAL2-IM-0640-0001.jpeg  \n",
            "  inflating: CovidDataset/Train/Normal/NORMAL2-IM-0642-0001.jpeg  \n",
            "  inflating: CovidDataset/Train/Normal/NORMAL2-IM-0650-0001.jpeg  \n",
            "  inflating: CovidDataset/Train/Normal/NORMAL2-IM-0652-0001.jpeg  \n",
            "  inflating: CovidDataset/Train/Normal/NORMAL2-IM-0660-0001.jpeg  \n",
            "  inflating: CovidDataset/Train/Normal/NORMAL2-IM-0662-0001.jpeg  \n",
            "  inflating: CovidDataset/Train/Normal/NORMAL2-IM-0672-0001.jpeg  \n",
            "  inflating: CovidDataset/Train/Normal/NORMAL2-IM-0680-0001.jpeg  \n",
            "  inflating: CovidDataset/Train/Normal/NORMAL2-IM-0749-0001.jpeg  \n",
            "  inflating: CovidDataset/Train/Normal/NORMAL2-IM-0777-0001.jpeg  \n",
            "  inflating: CovidDataset/Train/Normal/NORMAL2-IM-0781-0001.jpeg  \n",
            "  inflating: CovidDataset/Train/Normal/NORMAL2-IM-0804-0001.jpeg  \n",
            "  inflating: CovidDataset/Train/Normal/NORMAL2-IM-0806-0001.jpeg  \n",
            "  inflating: CovidDataset/Train/Normal/NORMAL2-IM-0811-0001.jpeg  \n",
            "  inflating: CovidDataset/Train/Normal/NORMAL2-IM-0818-0001-0002.jpeg  \n",
            "  inflating: CovidDataset/Train/Normal/NORMAL2-IM-0824-0001.jpeg  \n",
            "  inflating: CovidDataset/Train/Normal/NORMAL2-IM-0832-0001-0002.jpeg  \n",
            "  inflating: CovidDataset/Train/Normal/NORMAL2-IM-0834-0001.jpeg  \n",
            "  inflating: CovidDataset/Train/Normal/NORMAL2-IM-0840-0001.jpeg  \n",
            "  inflating: CovidDataset/Train/Normal/NORMAL2-IM-0842-0001.jpeg  \n",
            "  inflating: CovidDataset/Train/Normal/NORMAL2-IM-0845-0001.jpeg  \n",
            "  inflating: CovidDataset/Train/Normal/NORMAL2-IM-0847-0001.jpeg  \n",
            "  inflating: CovidDataset/Train/Normal/NORMAL2-IM-0857-0001.jpeg  \n",
            "  inflating: CovidDataset/Train/Normal/NORMAL2-IM-0873-0001.jpeg  \n",
            "  inflating: CovidDataset/Train/Normal/NORMAL2-IM-0887-0001.jpeg  \n",
            "  inflating: CovidDataset/Train/Normal/NORMAL2-IM-0892-0001.jpeg  \n",
            "  inflating: CovidDataset/Train/Normal/NORMAL2-IM-0896-0001.jpeg  \n",
            "  inflating: CovidDataset/Train/Normal/NORMAL2-IM-0905-0001.jpeg  \n",
            "  inflating: CovidDataset/Train/Normal/NORMAL2-IM-0910-0001.jpeg  \n",
            "  inflating: CovidDataset/Train/Normal/NORMAL2-IM-0914-0001.jpeg  \n",
            "  inflating: CovidDataset/Train/Normal/NORMAL2-IM-0929-0001.jpeg  \n",
            "  inflating: CovidDataset/Train/Normal/NORMAL2-IM-0931-0001.jpeg  \n",
            "  inflating: CovidDataset/Train/Normal/NORMAL2-IM-0933-0001.jpeg  \n",
            "  inflating: CovidDataset/Train/Normal/NORMAL2-IM-0942-0001.jpeg  \n",
            "  inflating: CovidDataset/Train/Normal/NORMAL2-IM-0948-0001.jpeg  \n",
            "  inflating: CovidDataset/Train/Normal/NORMAL2-IM-0951-0001.jpeg  \n",
            "  inflating: CovidDataset/Train/Normal/NORMAL2-IM-0969-0001.jpeg  \n",
            "  inflating: CovidDataset/Train/Normal/NORMAL2-IM-0971-0001-0002.jpeg  \n",
            "  inflating: CovidDataset/Train/Normal/NORMAL2-IM-0989-0001.jpeg  \n",
            "  inflating: CovidDataset/Train/Normal/NORMAL2-IM-0995-0001.jpeg  \n",
            "  inflating: CovidDataset/Train/Normal/NORMAL2-IM-1002-0001.jpeg  \n",
            "  inflating: CovidDataset/Train/Normal/NORMAL2-IM-1019-0001.jpeg  \n",
            "  inflating: CovidDataset/Train/Normal/NORMAL2-IM-1020-0001.jpeg  \n",
            "  inflating: CovidDataset/Train/Normal/NORMAL2-IM-1027-0001.jpeg  \n",
            "  inflating: CovidDataset/Train/Normal/NORMAL2-IM-1028-0001.jpeg  \n",
            "  inflating: CovidDataset/Train/Normal/NORMAL2-IM-1045-0001.jpeg  \n",
            "  inflating: CovidDataset/Train/Normal/NORMAL2-IM-1049-0001.jpeg  \n",
            "  inflating: CovidDataset/Train/Normal/NORMAL2-IM-1088-0001.jpeg  \n",
            "  inflating: CovidDataset/Train/Normal/NORMAL2-IM-1091-0001.jpeg  \n",
            "  inflating: CovidDataset/Train/Normal/NORMAL2-IM-1093-0001.jpeg  \n",
            "  inflating: CovidDataset/Train/Normal/NORMAL2-IM-1096-0001.jpeg  \n",
            "  inflating: CovidDataset/Train/Normal/NORMAL2-IM-1100-0001.jpeg  \n",
            "  inflating: CovidDataset/Train/Normal/NORMAL2-IM-1108-0001.jpeg  \n",
            "  inflating: CovidDataset/Train/Normal/NORMAL2-IM-1116-0001-0002.jpeg  \n",
            "  inflating: CovidDataset/Train/Normal/NORMAL2-IM-1117-0001.jpeg  \n",
            "  inflating: CovidDataset/Train/Normal/NORMAL2-IM-1118-0001.jpeg  \n",
            "  inflating: CovidDataset/Train/Normal/NORMAL2-IM-1120-0001.jpeg  \n",
            "  inflating: CovidDataset/Train/Normal/NORMAL2-IM-1128-0001-0002.jpeg  \n",
            "  inflating: CovidDataset/Train/Normal/NORMAL2-IM-1148-0001.jpeg  \n",
            "  inflating: CovidDataset/Train/Normal/NORMAL2-IM-1150-0001.jpeg  \n",
            "  inflating: CovidDataset/Train/Normal/NORMAL2-IM-1152-0001-0001.jpeg  \n",
            "  inflating: CovidDataset/Train/Normal/NORMAL2-IM-1153-0001.jpeg  \n",
            "  inflating: CovidDataset/Train/Normal/NORMAL2-IM-1171-0001.jpeg  \n",
            "  inflating: CovidDataset/Train/Normal/NORMAL2-IM-1174-0001.jpeg  \n",
            "  inflating: CovidDataset/Train/Normal/NORMAL2-IM-1181-0001.jpeg  \n",
            "  inflating: CovidDataset/Train/Normal/NORMAL2-IM-1185-0001.jpeg  \n",
            "  inflating: CovidDataset/Train/Normal/NORMAL2-IM-1187-0001.jpeg  \n",
            "  inflating: CovidDataset/Train/Normal/NORMAL2-IM-1197-0001.jpeg  \n",
            "  inflating: CovidDataset/Train/Normal/NORMAL2-IM-1206-0001.jpeg  \n",
            "  inflating: CovidDataset/Train/Normal/NORMAL2-IM-1226-0001.jpeg  \n",
            "  inflating: CovidDataset/Train/Normal/NORMAL2-IM-1237-0001.jpeg  \n",
            "  inflating: CovidDataset/Train/Normal/NORMAL2-IM-1260-0001.jpeg  \n",
            "  inflating: CovidDataset/Train/Normal/NORMAL2-IM-1261-0001.jpeg  \n",
            "  inflating: CovidDataset/Train/Normal/NORMAL2-IM-1274-0001.jpeg  \n",
            "  inflating: CovidDataset/Train/Normal/NORMAL2-IM-1304-0001.jpeg  \n",
            "  inflating: CovidDataset/Train/Normal/NORMAL2-IM-1316-0001.jpeg  \n",
            "  inflating: CovidDataset/Train/Normal/NORMAL2-IM-1319-0001.jpeg  \n",
            "  inflating: CovidDataset/Train/Normal/NORMAL2-IM-1334-0001.jpeg  \n",
            "  inflating: CovidDataset/Train/Normal/NORMAL2-IM-1337-0001.jpeg  \n",
            "  inflating: CovidDataset/Train/Normal/NORMAL2-IM-1338-0001.jpeg  \n",
            "  inflating: CovidDataset/Train/Normal/NORMAL2-IM-1346-0001.jpeg  \n",
            "   creating: CovidDataset/Val/\n",
            "   creating: CovidDataset/Val/Covid/\n",
            "  inflating: CovidDataset/Val/Covid/01E392EE-69F9-4E33-BFCE-E5C968654078.jpeg  \n",
            "  inflating: CovidDataset/Val/Covid/02b76460.jpg  \n",
            "  inflating: CovidDataset/Val/Covid/03BF7561-A9BA-4C3C-B8A0-D3E585F73F3C.jpeg  \n",
            "  inflating: CovidDataset/Val/Covid/0a7faa2a.jpg  \n",
            "  inflating: CovidDataset/Val/Covid/1.CXRCTThoraximagesofCOVID-19fromSingapore.pdf-000-fig1a.png  \n",
            "  inflating: CovidDataset/Val/Covid/1.CXRCTThoraximagesofCOVID-19fromSingapore.pdf-000-fig1b.png  \n",
            "  inflating: CovidDataset/Val/Covid/1.CXRCTThoraximagesofCOVID-19fromSingapore.pdf-001-fig2a.png  \n",
            "  inflating: CovidDataset/Val/Covid/1.CXRCTThoraximagesofCOVID-19fromSingapore.pdf-001-fig2b.png  \n",
            "  inflating: CovidDataset/Val/Covid/1.CXRCTThoraximagesofCOVID-19fromSingapore.pdf-002-fig3a.png  \n",
            "  inflating: CovidDataset/Val/Covid/1.CXRCTThoraximagesofCOVID-19fromSingapore.pdf-002-fig3b.png  \n",
            "  inflating: CovidDataset/Val/Covid/1.CXRCTThoraximagesofCOVID-19fromSingapore.pdf-003-fig4a.png  \n",
            "  inflating: CovidDataset/Val/Covid/1.CXRCTThoraximagesofCOVID-19fromSingapore.pdf-003-fig4b.png  \n",
            "  inflating: CovidDataset/Val/Covid/19abe1f3.jpg  \n",
            "  inflating: CovidDataset/Val/Covid/1B734A89-A1BF-49A8-A1D3-66FAFA4FAC5D.jpeg  \n",
            "  inflating: CovidDataset/Val/Covid/1-s2.0-S0140673620303706-fx1_lrg.jpg  \n",
            "  inflating: CovidDataset/Val/Covid/1-s2.0-S1684118220300608-main.pdf-001.jpg  \n",
            "  inflating: CovidDataset/Val/Covid/1-s2.0-S1684118220300608-main.pdf-002.jpg  \n",
            "  inflating: CovidDataset/Val/Covid/1-s2.0-S1684118220300682-main.pdf-002-a1.png  \n",
            "  inflating: CovidDataset/Val/Covid/1-s2.0-S1684118220300682-main.pdf-002-a2.png  \n",
            "  inflating: CovidDataset/Val/Covid/1-s2.0-S1684118220300682-main.pdf-003-b1.png  \n",
            "  inflating: CovidDataset/Val/Covid/1-s2.0-S1684118220300682-main.pdf-003-b2.png  \n",
            "  inflating: CovidDataset/Val/Covid/2020.02.25.20021568-p23-108%10.png  \n",
            "  inflating: CovidDataset/Val/Covid/2020.02.25.20021568-p23-108%11.png  \n",
            "  inflating: CovidDataset/Val/Covid/2020.02.25.20021568-p23-108%12.png  \n",
            "  inflating: CovidDataset/Val/Covid/2020.02.25.20021568-p23-108%3.png  \n",
            "  inflating: CovidDataset/Val/Covid/2020.02.25.20021568-p23-108%4.png  \n",
            "  inflating: CovidDataset/Val/Covid/2020.02.25.20021568-p23-108%5.png  \n",
            "  inflating: CovidDataset/Val/Covid/2020.02.25.20021568-p23-108%6.png  \n",
            "  inflating: CovidDataset/Val/Covid/2020.02.25.20021568-p23-108%7.png  \n",
            "  inflating: CovidDataset/Val/Covid/2020.02.25.20021568-p23-108%8.png  \n",
            "  inflating: CovidDataset/Val/Covid/2020.02.25.20021568-p23-108%9.png  \n",
            "  inflating: CovidDataset/Val/Covid/23E99E2E-447C-46E5-8EB2-D35D12473C39.png  \n",
            "  inflating: CovidDataset/Val/Covid/2C26F453-AF3B-4517-BB9E-802CF2179543.jpeg  \n",
            "  inflating: CovidDataset/Val/Covid/2c35005f.jpg  \n",
            "  inflating: CovidDataset/Val/Covid/2cd63b76.jpg  \n",
            "  inflating: CovidDataset/Val/Covid/2-chest-filmc.jpg  \n",
            "  inflating: CovidDataset/Val/Covid/31BA3780-2323-493F-8AED-62081B9C383B.jpeg  \n",
            "  inflating: CovidDataset/Val/Covid/3b46de94.jpg  \n",
            "  inflating: CovidDataset/Val/Covid/48c4542c.jpg  \n",
            "  inflating: CovidDataset/Val/Covid/4d98e1de.jpg  \n",
            "  inflating: CovidDataset/Val/Covid/4e43e48d52c9e2d4c6c1fb9bc1544f_jumbo.jpeg  \n",
            "  inflating: CovidDataset/Val/Covid/53EC07C9-5CC6-4BE4-9B6F-D7B0D72AAA7E.jpeg  \n",
            "  inflating: CovidDataset/Val/Covid/58cb9263f16e94305c730685358e4e_jumbo.jpeg  \n",
            "  inflating: CovidDataset/Val/Covid/5f619d7e.jpg  \n",
            "  inflating: CovidDataset/Val/Covid/6b3bdbc31f65230b8cdcc3cef5f8ba8a-40ac-0.jpg  \n",
            "  inflating: CovidDataset/Val/Covid/6b44464d-73a7-4cf3-bbb6-ffe7168300e3.annot.original.jpeg  \n",
            "  inflating: CovidDataset/Val/Covid/6C94A287-C059-46A0-8600-AFB95F4727B7.jpeg  \n",
            "  inflating: CovidDataset/Val/Covid/6CB4EFC6-68FA-4CD5-940C-BEFA8DAFE9A7.jpeg  \n",
            "  inflating: CovidDataset/Val/Covid/7AF6C1AF-D249-4BD2-8C26-449304105D03.jpeg  \n",
            "  inflating: CovidDataset/Val/Covid/7c0d0e1d.jpg  \n",
            "  inflating: CovidDataset/Val/Covid/7C69C012-7479-493F-8722-ABC29C60A2DD.jpeg  \n",
            "  inflating: CovidDataset/Val/Covid/7-fatal-covid19.jpg  \n",
            "  inflating: CovidDataset/Val/Covid/80b5f00f.jpg  \n",
            "  inflating: CovidDataset/Val/Covid/82a78c13.jpg  \n",
            "  inflating: CovidDataset/Val/Covid/85E52EB3-56E9-4D67-82DA-DEA247C82886.jpeg  \n",
            "  inflating: CovidDataset/Val/Covid/8da14fff.jpg  \n",
            "  inflating: CovidDataset/Val/Covid/8FDE8DBA-CFBD-4B4C-B1A4-6F36A93B7E87.jpeg  \n",
            "  inflating: CovidDataset/Val/Covid/9C34AF49-E589-44D5-92D3-168B3B04E4A6.jpeg  \n",
            "  inflating: CovidDataset/Val/Covid/9eca9ade.jpg  \n",
            "  inflating: CovidDataset/Val/Covid/9fdd3c3032296fd04d2cad5d9070d4_jumbo.jpeg  \n",
            "   creating: CovidDataset/Val/Normal/\n",
            "  inflating: CovidDataset/Val/Normal/26%0.jpg  \n",
            "  inflating: CovidDataset/Val/Normal/26%1.jpg  \n",
            "  inflating: CovidDataset/Val/Normal/26%2.jpg  \n",
            "  inflating: CovidDataset/Val/Normal/26%3.jpg  \n",
            "  inflating: CovidDataset/Val/Normal/26.png  \n",
            "  inflating: CovidDataset/Val/Normal/28.jpg  \n",
            "  inflating: CovidDataset/Val/Normal/29%0.jpg  \n",
            "  inflating: CovidDataset/Val/Normal/29%1.jpg  \n",
            "  inflating: CovidDataset/Val/Normal/29%2.jpg  \n",
            "  inflating: CovidDataset/Val/Normal/29%3.jpg  \n",
            "  inflating: CovidDataset/Val/Normal/IM-0125-0001.jpeg  \n",
            "  inflating: CovidDataset/Val/Normal/IM-0131-0001.jpeg  \n",
            "  inflating: CovidDataset/Val/Normal/IM-0149-0001.jpeg  \n",
            "  inflating: CovidDataset/Val/Normal/IM-0164-0001.jpeg  \n",
            "  inflating: CovidDataset/Val/Normal/IM-0166-0001.jpeg  \n",
            "  inflating: CovidDataset/Val/Normal/IM-0178-0001.jpeg  \n",
            "  inflating: CovidDataset/Val/Normal/IM-0183-0001.jpeg  \n",
            "  inflating: CovidDataset/Val/Normal/IM-0217-0001.jpeg  \n",
            "  inflating: CovidDataset/Val/Normal/IM-0219-0001.jpeg  \n",
            "  inflating: CovidDataset/Val/Normal/IM-0248-0001.jpeg  \n",
            "  inflating: CovidDataset/Val/Normal/IM-0256-0001.jpeg  \n",
            "  inflating: CovidDataset/Val/Normal/IM-0266-0001.jpeg  \n",
            "  inflating: CovidDataset/Val/Normal/IM-0273-0001.jpeg  \n",
            "  inflating: CovidDataset/Val/Normal/IM-0279-0001.jpeg  \n",
            "  inflating: CovidDataset/Val/Normal/IM-0282-0001.jpeg  \n",
            "  inflating: CovidDataset/Val/Normal/IM-0294-0001.jpeg  \n",
            "  inflating: CovidDataset/Val/Normal/IM-0312-0001.jpeg  \n",
            "  inflating: CovidDataset/Val/Normal/IM-0333-0001.jpeg  \n",
            "  inflating: CovidDataset/Val/Normal/IM-0338-0001.jpeg  \n",
            "  inflating: CovidDataset/Val/Normal/IM-0358-0001.jpeg  \n",
            "  inflating: CovidDataset/Val/Normal/IM-0369-0001.jpeg  \n",
            "  inflating: CovidDataset/Val/Normal/IM-0372-0001.jpeg  \n",
            "  inflating: CovidDataset/Val/Normal/IM-0386-0001.jpeg  \n",
            "  inflating: CovidDataset/Val/Normal/IM-0419-0001.jpeg  \n",
            "  inflating: CovidDataset/Val/Normal/IM-0428-0001.jpeg  \n",
            "  inflating: CovidDataset/Val/Normal/IM-0429-0001.jpeg  \n",
            "  inflating: CovidDataset/Val/Normal/IM-0445-0001.jpeg  \n",
            "  inflating: CovidDataset/Val/Normal/IM-0466-0001.jpeg  \n",
            "  inflating: CovidDataset/Val/Normal/IM-0472-0001.jpeg  \n",
            "  inflating: CovidDataset/Val/Normal/IM-0476-0001.jpeg  \n",
            "  inflating: CovidDataset/Val/Normal/IM-0491-0001.jpeg  \n",
            "  inflating: CovidDataset/Val/Normal/IM-0491-0001-0002.jpeg  \n",
            "  inflating: CovidDataset/Val/Normal/IM-0512-0001.jpeg  \n",
            "  inflating: CovidDataset/Val/Normal/IM-0514-0001.jpeg  \n",
            "  inflating: CovidDataset/Val/Normal/IM-0524-0001.jpeg  \n",
            "  inflating: CovidDataset/Val/Normal/IM-0526-0001.jpeg  \n",
            "  inflating: CovidDataset/Val/Normal/IM-0530-0001.jpeg  \n",
            "  inflating: CovidDataset/Val/Normal/IM-0531-0001.jpeg  \n",
            "  inflating: CovidDataset/Val/Normal/IM-0531-0001-0001.jpeg  \n",
            "  inflating: CovidDataset/Val/Normal/IM-0536-0001.jpeg  \n",
            "  inflating: CovidDataset/Val/Normal/IM-0543-0001.jpeg  \n",
            "  inflating: CovidDataset/Val/Normal/IM-0551-0001-0001.jpeg  \n",
            "  inflating: CovidDataset/Val/Normal/IM-0564-0001.jpeg  \n",
            "  inflating: CovidDataset/Val/Normal/IM-0568-0001.jpeg  \n",
            "  inflating: CovidDataset/Val/Normal/IM-0575-0001.jpeg  \n",
            "  inflating: CovidDataset/Val/Normal/IM-0584-0001.jpeg  \n",
            "  inflating: CovidDataset/Val/Normal/IM-0588-0001.jpeg  \n",
            "  inflating: CovidDataset/Val/Normal/IM-0590-0001.jpeg  \n",
            "  inflating: CovidDataset/Val/Normal/IM-0596-0001.jpeg  \n",
            "  inflating: CovidDataset/Val/Normal/IM-0601-0001.jpeg  \n"
          ],
          "name": "stdout"
        }
      ]
    },
    {
      "cell_type": "code",
      "metadata": {
        "id": "AYtiRFcBnynO"
      },
      "source": [
        "TRAIN_PATH = \"CovidDataset/Train\"\n",
        "VAL_PATH = \"CovidDataset/Val\""
      ],
      "execution_count": null,
      "outputs": []
    },
    {
      "cell_type": "code",
      "metadata": {
        "id": "zVWCpDHqofb-",
        "outputId": "7f333082-e4e6-4254-c707-355e719dced5",
        "colab": {
          "base_uri": "https://localhost:8080/",
          "height": 34
        }
      },
      "source": [
        "import numpy as np\n",
        "import matplotlib.pyplot as plt\n",
        "import keras\n",
        "from keras.layers import *\n",
        "from keras.models import *\n",
        "from keras.preprocessing import image"
      ],
      "execution_count": null,
      "outputs": [
        {
          "output_type": "stream",
          "text": [
            "Using TensorFlow backend.\n"
          ],
          "name": "stderr"
        }
      ]
    },
    {
      "cell_type": "code",
      "metadata": {
        "id": "khtGJl-_AJq1"
      },
      "source": [
        "# CNN Model with Keras\n",
        "\n",
        "model = Sequential()\n",
        "model.add((Conv2D(32,kernel_size=(3,3),activation='relu',input_shape=(250, 250, 3))))\n",
        "model.add(Conv2D(32, 5, strides=2, activation=\"relu\"))\n",
        "model.add(Conv2D(32, 3, activation=\"relu\"))\n",
        "model.add(MaxPooling2D(3))\n",
        "\n",
        "model.add(Conv2D(32, 3, activation=\"relu\"))\n",
        "model.add(Conv2D(32, 3, activation=\"relu\"))\n",
        "model.add(MaxPooling2D(3))\n",
        "model.add(Conv2D(32, 3, activation=\"relu\"))\n",
        "model.add(Conv2D(32, 3, activation=\"relu\"))\n",
        "model.add(MaxPooling2D(2))\n",
        "\n",
        "# Finally, we add a classification layer AND compile\n",
        "model.add(Flatten())\n",
        "model.add(Dense(64,activation='relu'))\n",
        "model.add(Dropout(0.5))\n",
        "model.add(Dense(1,activation='sigmoid'))\n",
        "model.compile(loss=keras.losses.binary_crossentropy, optimizer='adam', metrics=['accuracy'])"
      ],
      "execution_count": null,
      "outputs": []
    },
    {
      "cell_type": "code",
      "metadata": {
        "id": "9gc7H6xhrFV4",
        "outputId": "281530e1-f558-4e31-889f-7d9975f0d8a0",
        "colab": {
          "base_uri": "https://localhost:8080/",
          "height": 629
        }
      },
      "source": [
        "model.summary()"
      ],
      "execution_count": null,
      "outputs": [
        {
          "output_type": "stream",
          "text": [
            "Model: \"sequential_1\"\n",
            "_________________________________________________________________\n",
            "Layer (type)                 Output Shape              Param #   \n",
            "=================================================================\n",
            "conv2d_1 (Conv2D)            (None, 248, 248, 32)      896       \n",
            "_________________________________________________________________\n",
            "conv2d_2 (Conv2D)            (None, 122, 122, 32)      25632     \n",
            "_________________________________________________________________\n",
            "conv2d_3 (Conv2D)            (None, 120, 120, 32)      9248      \n",
            "_________________________________________________________________\n",
            "max_pooling2d_1 (MaxPooling2 (None, 40, 40, 32)        0         \n",
            "_________________________________________________________________\n",
            "conv2d_4 (Conv2D)            (None, 38, 38, 32)        9248      \n",
            "_________________________________________________________________\n",
            "conv2d_5 (Conv2D)            (None, 36, 36, 32)        9248      \n",
            "_________________________________________________________________\n",
            "max_pooling2d_2 (MaxPooling2 (None, 12, 12, 32)        0         \n",
            "_________________________________________________________________\n",
            "conv2d_6 (Conv2D)            (None, 10, 10, 32)        9248      \n",
            "_________________________________________________________________\n",
            "conv2d_7 (Conv2D)            (None, 8, 8, 32)          9248      \n",
            "_________________________________________________________________\n",
            "max_pooling2d_3 (MaxPooling2 (None, 4, 4, 32)          0         \n",
            "_________________________________________________________________\n",
            "flatten_1 (Flatten)          (None, 512)               0         \n",
            "_________________________________________________________________\n",
            "dense_1 (Dense)              (None, 64)                32832     \n",
            "_________________________________________________________________\n",
            "dropout_1 (Dropout)          (None, 64)                0         \n",
            "_________________________________________________________________\n",
            "dense_2 (Dense)              (None, 1)                 65        \n",
            "=================================================================\n",
            "Total params: 105,665\n",
            "Trainable params: 105,665\n",
            "Non-trainable params: 0\n",
            "_________________________________________________________________\n"
          ],
          "name": "stdout"
        }
      ]
    },
    {
      "cell_type": "code",
      "metadata": {
        "id": "uA0O11RZrHlW"
      },
      "source": [
        "train_data = image.ImageDataGenerator(\n",
        "    rescale = 1./255,\n",
        "    shear_range = 0.2,\n",
        "    zoom_range = 0.2,\n",
        "    horizontal_flip = True\n",
        ")\n",
        "\n",
        "test_data = image.ImageDataGenerator(rescale = 1./255)"
      ],
      "execution_count": null,
      "outputs": []
    },
    {
      "cell_type": "code",
      "metadata": {
        "id": "xkcP4Mz5sqsE",
        "outputId": "53f2d390-055f-4f27-a63d-89a99fa6c556",
        "colab": {
          "base_uri": "https://localhost:8080/",
          "height": 34
        }
      },
      "source": [
        "train_generator = train_data.flow_from_directory(\n",
        "    'CovidDataset/Train',\n",
        "    target_size = (250,250),\n",
        "    batch_size = 32,\n",
        "    class_mode = 'binary'\n",
        ")"
      ],
      "execution_count": null,
      "outputs": [
        {
          "output_type": "stream",
          "text": [
            "Found 304 images belonging to 2 classes.\n"
          ],
          "name": "stdout"
        }
      ]
    },
    {
      "cell_type": "code",
      "metadata": {
        "id": "OfQkcXi0kbsm",
        "outputId": "1d02cbdb-ee4e-433a-c6b5-4e8aa14312e6",
        "colab": {
          "base_uri": "https://localhost:8080/",
          "height": 34
        }
      },
      "source": [
        "validation_generator = test_data.flow_from_directory(\n",
        "    'CovidDataset/Val',\n",
        "    target_size = (250,250),\n",
        "    batch_size = 32,\n",
        "    class_mode = 'binary'\n",
        ")"
      ],
      "execution_count": null,
      "outputs": [
        {
          "output_type": "stream",
          "text": [
            "Found 120 images belonging to 2 classes.\n"
          ],
          "name": "stdout"
        }
      ]
    },
    {
      "cell_type": "code",
      "metadata": {
        "id": "-JotFdIMtoUW",
        "outputId": "fc15b5d5-06b5-4dfc-eb0a-016d536be7f0",
        "colab": {
          "base_uri": "https://localhost:8080/",
          "height": 136
        }
      },
      "source": [
        "#COUNTING FILES IN TRAINING AND VALIDATION FOLDERS\n",
        "\n",
        "import os\n",
        "list1 = os.listdir('CovidDataset/Train/Covid') # DATASET TRAIN COVID FOLDER\n",
        "number_files = len(list1)\n",
        "print('CovidDataset/Train/Covid ', number_files)\n",
        "print()\n",
        "list2 = os.listdir('CovidDataset/Val/Covid') # DATASET VAL COVID FOLDER\n",
        "number_files1 = len(list2)\n",
        "print('CovidDataset/Val/Covid ', number_files1)\n",
        "print()\n",
        "list3 = os.listdir('CovidDataset/Train/Normal') # DATASET TRAIN COVID FOLDER\n",
        "number_files2 = len(list3)\n",
        "print('CovidDataset/Train/Normal ', number_files2)\n",
        "print()\n",
        "list4 = os.listdir('CovidDataset/Val/Normal') # DATASET VAL COVID FOLDER\n",
        "number_files3 = len(list4)\n",
        "print('CovidDataset/Val/Normal ', number_files3)"
      ],
      "execution_count": null,
      "outputs": [
        {
          "output_type": "stream",
          "text": [
            "CovidDataset/Train/Covid  152\n",
            "\n",
            "CovidDataset/Val/Covid  60\n",
            "\n",
            "CovidDataset/Train/Normal  152\n",
            "\n",
            "CovidDataset/Val/Normal  60\n"
          ],
          "name": "stdout"
        }
      ]
    },
    {
      "cell_type": "code",
      "metadata": {
        "id": "138iDLb-u9C4",
        "outputId": "66481d2d-478b-4ae1-df0e-3ddda501058f",
        "colab": {
          "base_uri": "https://localhost:8080/",
          "height": 357
        }
      },
      "source": [
        "#fitting the model\n",
        "hist = model.fit_generator(\n",
        "    train_generator,\n",
        "    steps_per_epoch=8,\n",
        "    epochs = 10,\n",
        "    validation_data = validation_generator,\n",
        "    validation_steps=2\n",
        ")"
      ],
      "execution_count": null,
      "outputs": [
        {
          "output_type": "stream",
          "text": [
            "Epoch 1/10\n",
            "8/8 [==============================] - 11s 1s/step - loss: 0.6967 - accuracy: 0.5000 - val_loss: 0.6733 - val_accuracy: 0.8438\n",
            "Epoch 2/10\n",
            "8/8 [==============================] - 8s 978ms/step - loss: 0.6889 - accuracy: 0.5208 - val_loss: 0.6751 - val_accuracy: 0.5893\n",
            "Epoch 3/10\n",
            "8/8 [==============================] - 9s 1s/step - loss: 0.6679 - accuracy: 0.6125 - val_loss: 0.5990 - val_accuracy: 0.6406\n",
            "Epoch 4/10\n",
            "8/8 [==============================] - 9s 1s/step - loss: 0.6259 - accuracy: 0.6758 - val_loss: 0.5931 - val_accuracy: 0.5714\n",
            "Epoch 5/10\n",
            "8/8 [==============================] - 9s 1s/step - loss: 0.5978 - accuracy: 0.6958 - val_loss: 0.4910 - val_accuracy: 0.8750\n",
            "Epoch 6/10\n",
            "8/8 [==============================] - 8s 1s/step - loss: 0.5134 - accuracy: 0.7656 - val_loss: 0.2813 - val_accuracy: 0.8929\n",
            "Epoch 7/10\n",
            "8/8 [==============================] - 9s 1s/step - loss: 0.3975 - accuracy: 0.8375 - val_loss: 0.3304 - val_accuracy: 0.8906\n",
            "Epoch 8/10\n",
            "8/8 [==============================] - 7s 868ms/step - loss: 0.3852 - accuracy: 0.8705 - val_loss: 0.2906 - val_accuracy: 0.8929\n",
            "Epoch 9/10\n",
            "8/8 [==============================] - 9s 1s/step - loss: 0.3172 - accuracy: 0.8750 - val_loss: 0.2223 - val_accuracy: 0.8750\n",
            "Epoch 10/10\n",
            "8/8 [==============================] - 8s 984ms/step - loss: 0.4247 - accuracy: 0.8500 - val_loss: 0.3624 - val_accuracy: 0.9286\n"
          ],
          "name": "stdout"
        }
      ]
    },
    {
      "cell_type": "code",
      "metadata": {
        "id": "39y_gTk2vFyu"
      },
      "source": [
        "#Class Activation Maps"
      ],
      "execution_count": null,
      "outputs": []
    },
    {
      "cell_type": "code",
      "metadata": {
        "id": "uQ38dT3c1ooc"
      },
      "source": [
        "model.save(\"model_covid.h5\")"
      ],
      "execution_count": null,
      "outputs": []
    },
    {
      "cell_type": "code",
      "metadata": {
        "id": "hBSHBXT312Z-",
        "outputId": "d88874d9-53f5-4899-c50b-d63e720dd792",
        "colab": {
          "base_uri": "https://localhost:8080/",
          "height": 34
        }
      },
      "source": [
        "#prints [loss, accuracy]\n",
        "model.evaluate_generator(train_generator)"
      ],
      "execution_count": null,
      "outputs": [
        {
          "output_type": "execute_result",
          "data": {
            "text/plain": [
              "[0.40529537200927734, 0.9046052694320679]"
            ]
          },
          "metadata": {
            "tags": []
          },
          "execution_count": 15
        }
      ]
    },
    {
      "cell_type": "code",
      "metadata": {
        "id": "QoWYXd5F17oO",
        "outputId": "c42a0485-36d0-4836-a755-c3c7eedfae6b",
        "colab": {
          "base_uri": "https://localhost:8080/",
          "height": 34
        }
      },
      "source": [
        "#prints [loss, accuracy]\n",
        "model.evaluate_generator(validation_generator)"
      ],
      "execution_count": null,
      "outputs": [
        {
          "output_type": "execute_result",
          "data": {
            "text/plain": [
              "[0.35413679480552673, 0.9166666865348816]"
            ]
          },
          "metadata": {
            "tags": []
          },
          "execution_count": 16
        }
      ]
    },
    {
      "cell_type": "code",
      "metadata": {
        "id": "S3t42w811-52"
      },
      "source": [
        "model = load_model('model_covid.h5')"
      ],
      "execution_count": null,
      "outputs": []
    },
    {
      "cell_type": "code",
      "metadata": {
        "id": "EaRRBzp32GBG"
      },
      "source": [
        "y_actual = []\n",
        "y_test = []"
      ],
      "execution_count": null,
      "outputs": []
    },
    {
      "cell_type": "code",
      "metadata": {
        "id": "dhgIhVht2MvV"
      },
      "source": [
        "for i in os.listdir(\"./CovidDataset/Val/Normal\"):\n",
        "  img = image.load_img(\"./CovidDataset/Val/Normal/\"+i, target_size=(250,250))\n",
        "  img = image.img_to_array(img)\n",
        "  img = np.expand_dims(img, axis=0)\n",
        "  p = model.predict_classes(img)\n",
        "  y_test.append(p[0,0])\n",
        "  y_actual.append(1)"
      ],
      "execution_count": null,
      "outputs": []
    },
    {
      "cell_type": "code",
      "metadata": {
        "id": "YLw-b0qp2pI3"
      },
      "source": [
        "for i in os.listdir(\"./CovidDataset/Val/Covid\"):\n",
        "  img = image.load_img(\"./CovidDataset/Val/Covid/\"+i, target_size=(250,250))\n",
        "  img = image.img_to_array(img)\n",
        "  img = np.expand_dims(img, axis=0)\n",
        "  p = model.predict_classes(img)\n",
        "  y_test.append(p[0,0])\n",
        "  y_actual.append(0)"
      ],
      "execution_count": null,
      "outputs": []
    },
    {
      "cell_type": "code",
      "metadata": {
        "id": "CZmmzoKf2vc2"
      },
      "source": [
        "y_actual = np.array(y_actual)\n",
        "y_test = np.array(y_test)"
      ],
      "execution_count": null,
      "outputs": []
    },
    {
      "cell_type": "code",
      "metadata": {
        "id": "zq6NFcNI27He"
      },
      "source": [
        "#ADDING HEATMAP\n",
        "from sklearn.metrics import confusion_matrix"
      ],
      "execution_count": null,
      "outputs": []
    },
    {
      "cell_type": "code",
      "metadata": {
        "id": "lJHBcFhk3Vhu"
      },
      "source": [
        "conf_mx = confusion_matrix(y_actual, y_test)"
      ],
      "execution_count": null,
      "outputs": []
    },
    {
      "cell_type": "code",
      "metadata": {
        "id": "AENQ1Ee43bYd",
        "outputId": "fef192a6-b08b-416a-eb8f-af65b8f73320",
        "colab": {
          "base_uri": "https://localhost:8080/",
          "height": 71
        }
      },
      "source": [
        "import seaborn as sns"
      ],
      "execution_count": null,
      "outputs": [
        {
          "output_type": "stream",
          "text": [
            "/usr/local/lib/python3.6/dist-packages/statsmodels/tools/_testing.py:19: FutureWarning: pandas.util.testing is deprecated. Use the functions in the public API at pandas.testing instead.\n",
            "  import pandas.util.testing as tm\n"
          ],
          "name": "stderr"
        }
      ]
    },
    {
      "cell_type": "code",
      "metadata": {
        "id": "ZsJe8u6J3nzd",
        "outputId": "61157fdc-26aa-4753-bb4e-bbad4a761aa2",
        "colab": {
          "base_uri": "https://localhost:8080/",
          "height": 282
        }
      },
      "source": [
        "sns.heatmap(conf_mx, cmap=\"plasma\", annot=True)"
      ],
      "execution_count": null,
      "outputs": [
        {
          "output_type": "execute_result",
          "data": {
            "text/plain": [
              "<matplotlib.axes._subplots.AxesSubplot at 0x7fd8e77e2278>"
            ]
          },
          "metadata": {
            "tags": []
          },
          "execution_count": 25
        },
        {
          "output_type": "display_data",
          "data": {
            "image/png": "[encoded data removed]",
            "text/plain": [
              "<Figure size 432x288 with 2 Axes>"
            ]
          },
          "metadata": {
            "tags": [],
            "needs_background": "light"
          }
        }
      ]
    },
    {
      "cell_type": "code",
      "metadata": {
        "id": "ibWVItdc4FqN",
        "outputId": "1ac32715-55b4-40db-97e9-318a5e8c320e",
        "colab": {
          "base_uri": "https://localhost:8080/",
          "height": 590
        }
      },
      "source": [
        "#ADDING ACCURACY METRIC\n",
        "#plotting accuracy and loss per epoch\n",
        "print(hist.history.keys())\n",
        "plt.plot(hist.history['accuracy'])\n",
        "plt.plot(hist.history['val_accuracy'])\n",
        "plt.title('model accuracy')\n",
        "plt.ylabel('accuracy')\n",
        "plt.xlabel('epoch')\n",
        "plt.legend(['train', 'validation'], loc='upper left')\n",
        "plt.show()\n",
        "# \"Loss\"\n",
        "plt.plot(hist.history['loss'])\n",
        "plt.plot(hist.history['val_loss'])\n",
        "plt.title('model loss')\n",
        "plt.ylabel('loss')\n",
        "plt.xlabel('epoch')\n",
        "plt.legend(['train', 'validation'], loc='upper left')\n",
        "plt.show()"
      ],
      "execution_count": null,
      "outputs": [
        {
          "output_type": "stream",
          "text": [
            "dict_keys(['val_loss', 'val_accuracy', 'loss', 'accuracy'])\n"
          ],
          "name": "stdout"
        },
        {
          "output_type": "display_data",
          "data": {
            "image/png": "[encoded data removed]",
            "text/plain": [
              "<Figure size 432x288 with 1 Axes>"
            ]
          },
          "metadata": {
            "tags": [],
            "needs_background": "light"
          }
        },
        {
          "output_type": "display_data",
          "data": {
            "image/png": "[encoded data removed]",
            "text/plain": [
              "<Figure size 432x288 with 1 Axes>"
            ]
          },
          "metadata": {
            "tags": [],
            "needs_background": "light"
          }
        }
      ]
    },
    {
      "cell_type": "code",
      "metadata": {
        "id": "6AxmD4hZ4gm-"
      },
      "source": [
        "#ADDING MSE METRIC\n",
        "import tensorflow as tf\n",
        "model = load_model('model_covid.h5')\n",
        "\n",
        "#compiling\n",
        "model.compile(\n",
        "    optimizer='sgd',\n",
        "    loss='mse',\n",
        "    metrics=[tf.keras.metrics.MeanSquaredError()])"
      ],
      "execution_count": null,
      "outputs": []
    },
    {
      "cell_type": "code",
      "metadata": {
        "id": "Ksh1ylzdwUHW",
        "outputId": "6cb40f18-5d60-4e72-bab4-17f145938dd8",
        "colab": {
          "base_uri": "https://localhost:8080/",
          "height": 357
        }
      },
      "source": [
        "#fitting the model\n",
        "hist = model.fit_generator(\n",
        "    train_generator,\n",
        "    steps_per_epoch=8,\n",
        "    epochs = 10,\n",
        "    validation_data = validation_generator,\n",
        "    validation_steps=2\n",
        ")"
      ],
      "execution_count": null,
      "outputs": [
        {
          "output_type": "stream",
          "text": [
            "Epoch 1/10\n",
            "8/8 [==============================] - 10s 1s/step - loss: 0.1020 - mean_squared_error: 0.1156 - val_loss: 0.0672 - val_mean_squared_error: 0.0954\n",
            "Epoch 2/10\n",
            "8/8 [==============================] - 7s 873ms/step - loss: 0.0835 - mean_squared_error: 0.0911 - val_loss: 0.0479 - val_mean_squared_error: 0.0904\n",
            "Epoch 3/10\n",
            "8/8 [==============================] - 9s 1s/step - loss: 0.0744 - mean_squared_error: 0.0871 - val_loss: 0.0487 - val_mean_squared_error: 0.0847\n",
            "Epoch 4/10\n",
            "8/8 [==============================] - 8s 1s/step - loss: 0.0801 - mean_squared_error: 0.0858 - val_loss: 0.1108 - val_mean_squared_error: 0.0826\n",
            "Epoch 5/10\n",
            "8/8 [==============================] - 9s 1s/step - loss: 0.0755 - mean_squared_error: 0.0821 - val_loss: 0.0881 - val_mean_squared_error: 0.0810\n",
            "Epoch 6/10\n",
            "8/8 [==============================] - 8s 961ms/step - loss: 0.0822 - mean_squared_error: 0.0813 - val_loss: 0.0593 - val_mean_squared_error: 0.0813\n",
            "Epoch 7/10\n",
            "8/8 [==============================] - 9s 1s/step - loss: 0.0450 - mean_squared_error: 0.0786 - val_loss: 0.0730 - val_mean_squared_error: 0.0767\n",
            "Epoch 8/10\n",
            "8/8 [==============================] - 8s 1s/step - loss: 0.0695 - mean_squared_error: 0.0764 - val_loss: 0.0954 - val_mean_squared_error: 0.0761\n",
            "Epoch 9/10\n",
            "8/8 [==============================] - 10s 1s/step - loss: 0.0775 - mean_squared_error: 0.0764 - val_loss: 0.0494 - val_mean_squared_error: 0.0755\n",
            "Epoch 10/10\n",
            "8/8 [==============================] - 8s 972ms/step - loss: 0.0834 - mean_squared_error: 0.0757 - val_loss: 0.1122 - val_mean_squared_error: 0.0763\n"
          ],
          "name": "stdout"
        }
      ]
    },
    {
      "cell_type": "code",
      "metadata": {
        "id": "gG_nfRj4wWwC",
        "outputId": "e790f6b5-5478-490f-8477-ec3a0afceea3",
        "colab": {
          "base_uri": "https://localhost:8080/",
          "height": 34
        }
      },
      "source": [
        "#prints out [loss, mse]\n",
        "model.evaluate_generator(train_generator)"
      ],
      "execution_count": null,
      "outputs": [
        {
          "output_type": "execute_result",
          "data": {
            "text/plain": [
              "[0.07915621995925903, 0.07546262443065643]"
            ]
          },
          "metadata": {
            "tags": []
          },
          "execution_count": 31
        }
      ]
    },
    {
      "cell_type": "code",
      "metadata": {
        "id": "D56VZGPdwYrS",
        "outputId": "69175c5c-970a-4357-e3c4-8a0515127baf",
        "colab": {
          "base_uri": "https://localhost:8080/",
          "height": 34
        }
      },
      "source": [
        "#prints out [loss, mse]\n",
        "model.evaluate_generator(validation_generator)"
      ],
      "execution_count": null,
      "outputs": [
        {
          "output_type": "execute_result",
          "data": {
            "text/plain": [
              "[0.07944163680076599, 0.0750119537115097]"
            ]
          },
          "metadata": {
            "tags": []
          },
          "execution_count": 32
        }
      ]
    },
    {
      "cell_type": "code",
      "metadata": {
        "id": "Aa2vtY3Uwajm",
        "outputId": "3f77a208-2e50-44b9-ed8b-addf849f77b7",
        "colab": {
          "base_uri": "https://localhost:8080/",
          "height": 34
        }
      },
      "source": [
        "print(hist.history.keys())"
      ],
      "execution_count": null,
      "outputs": [
        {
          "output_type": "stream",
          "text": [
            "dict_keys(['val_loss', 'val_mean_squared_error', 'loss', 'mean_squared_error'])\n"
          ],
          "name": "stdout"
        }
      ]
    },
    {
      "cell_type": "code",
      "metadata": {
        "id": "2mAu9e4UwbMG",
        "outputId": "a91cdb44-75d7-42ac-ac94-4445dfb6fd60",
        "colab": {
          "base_uri": "https://localhost:8080/",
          "height": 573
        }
      },
      "source": [
        "#plotting mse and loss per epoch\n",
        "plt.plot(hist.history['mean_squared_error'])\n",
        "plt.plot(hist.history['val_mean_squared_error'])\n",
        "plt.title('model mse')\n",
        "plt.ylabel('mse')\n",
        "plt.xlabel('epoch')\n",
        "plt.legend(['train', 'validation'], loc='upper left')\n",
        "plt.show()\n",
        "# \"Loss\"\n",
        "plt.plot(hist.history['loss'])\n",
        "plt.plot(hist.history['val_loss'])\n",
        "plt.title('model loss')\n",
        "plt.ylabel('loss')\n",
        "plt.xlabel('epoch')\n",
        "plt.legend(['train', 'validation'], loc='upper left')\n",
        "plt.show()"
      ],
      "execution_count": null,
      "outputs": [
        {
          "output_type": "display_data",
          "data": {
            "image/png": "[encoded data removed]",
            "text/plain": [
              "<Figure size 432x288 with 1 Axes>"
            ]
          },
          "metadata": {
            "tags": [],
            "needs_background": "light"
          }
        },
        {
          "output_type": "display_data",
          "data": {
            "image/png": "[encoded data removed]",
            "text/plain": [
              "<Figure size 432x288 with 1 Axes>"
            ]
          },
          "metadata": {
            "tags": [],
            "needs_background": "light"
          }
        }
      ]
    }
  ]
}